{
 "cells": [
  {
   "cell_type": "code",
   "execution_count": null,
   "id": "5f15d278-ce58-4534-84fe-6b3178b19729",
   "metadata": {},
   "outputs": [],
   "source": [
    "## ChatGpt : Teach me os module of python"
   ]
  },
  {
   "cell_type": "code",
   "execution_count": null,
   "id": "f302764b-08ef-49e9-9948-b358e466e0c7",
   "metadata": {},
   "outputs": [],
   "source": []
  },
  {
   "cell_type": "code",
   "execution_count": 1,
   "id": "028cc570-6a9f-41e3-a759-08e36eacc5f0",
   "metadata": {},
   "outputs": [],
   "source": [
    "import os\n",
    "import shutil"
   ]
  },
  {
   "cell_type": "code",
   "execution_count": 2,
   "id": "9e44a332-46c0-4ddf-8b61-ae7883ab1655",
   "metadata": {},
   "outputs": [
    {
     "data": {
      "text/plain": [
       "'folder\\\\subfolder\\\\file.txt'"
      ]
     },
     "execution_count": 2,
     "metadata": {},
     "output_type": "execute_result"
    }
   ],
   "source": [
    "path = os.path.join('folder', 'subfolder', 'file.txt')\n",
    "\n",
    "path"
   ]
  },
  {
   "cell_type": "code",
   "execution_count": 3,
   "id": "44a6d28f-5b31-4c16-8bc2-e8f6b7c2cb99",
   "metadata": {},
   "outputs": [
    {
     "data": {
      "text/plain": [
       "'file.txt'"
      ]
     },
     "execution_count": 3,
     "metadata": {},
     "output_type": "execute_result"
    }
   ],
   "source": [
    "os.path.basename('/path/to/file.txt')"
   ]
  },
  {
   "cell_type": "code",
   "execution_count": 4,
   "id": "37f1a2d3-e637-4bb4-8588-44d9345bb717",
   "metadata": {},
   "outputs": [
    {
     "data": {
      "text/plain": [
       "'/path/to'"
      ]
     },
     "execution_count": 4,
     "metadata": {},
     "output_type": "execute_result"
    }
   ],
   "source": [
    "os.path.dirname('/path/to/file.txt')"
   ]
  },
  {
   "cell_type": "code",
   "execution_count": 5,
   "id": "087931ea-9068-4777-9cb0-af63b4690b87",
   "metadata": {},
   "outputs": [],
   "source": [
    "os.mkdir('abc')"
   ]
  },
  {
   "cell_type": "code",
   "execution_count": 6,
   "id": "a91ba0df-a135-4d7d-b72d-f70457dcada9",
   "metadata": {},
   "outputs": [],
   "source": [
    "os.makedirs('new_folder/subfolder')"
   ]
  },
  {
   "cell_type": "code",
   "execution_count": 7,
   "id": "cce79252-c3f7-4143-ac44-35f84d6ac24e",
   "metadata": {},
   "outputs": [
    {
     "data": {
      "text/plain": [
       "True"
      ]
     },
     "execution_count": 7,
     "metadata": {},
     "output_type": "execute_result"
    }
   ],
   "source": [
    "os.path.exists('new_folder/subfolder')"
   ]
  },
  {
   "cell_type": "code",
   "execution_count": 8,
   "id": "6d9e5994-52ba-45fc-9dc5-872f5e316aff",
   "metadata": {},
   "outputs": [],
   "source": [
    "os.makedirs('new_folder/subfolder2')"
   ]
  },
  {
   "cell_type": "code",
   "execution_count": 9,
   "id": "5e3dd407-11ff-4cf9-8f61-6818d885b6fd",
   "metadata": {},
   "outputs": [
    {
     "data": {
      "text/plain": [
       "['subfolder', 'subfolder2']"
      ]
     },
     "execution_count": 9,
     "metadata": {},
     "output_type": "execute_result"
    }
   ],
   "source": [
    "os.listdir('new_folder')"
   ]
  },
  {
   "cell_type": "code",
   "execution_count": 10,
   "id": "7ef3c194-d9c7-43fc-896e-fe0968e2d6b6",
   "metadata": {},
   "outputs": [],
   "source": [
    "os.rmdir(\"abc\")"
   ]
  },
  {
   "cell_type": "code",
   "execution_count": 11,
   "id": "fa11a8da-0244-47fc-9a73-454b92ffd9b6",
   "metadata": {},
   "outputs": [],
   "source": [
    "shutil.rmtree('new_folder')"
   ]
  },
  {
   "cell_type": "code",
   "execution_count": 12,
   "id": "b7cf8d23-350b-4498-b2a4-cd6bd40c7f06",
   "metadata": {},
   "outputs": [
    {
     "data": {
      "text/plain": [
       "['.ipynb_checkpoints', 'OS_Module.ipynb']"
      ]
     },
     "execution_count": 12,
     "metadata": {},
     "output_type": "execute_result"
    }
   ],
   "source": [
    "os.listdir()"
   ]
  },
  {
   "cell_type": "code",
   "execution_count": 22,
   "id": "03a839fd-f66e-4b86-9b31-6076fde037fa",
   "metadata": {},
   "outputs": [],
   "source": [
    "path_variable = os.environ['PATH']"
   ]
  },
  {
   "cell_type": "code",
   "execution_count": 28,
   "id": "0fa4b2af-637e-47a9-90e7-359683909520",
   "metadata": {},
   "outputs": [
    {
     "data": {
      "text/plain": [
       "['C:\\\\Windows\\\\system32',\n",
       " 'C:\\\\Windows',\n",
       " 'C:\\\\Windows\\\\System32\\\\Wbem',\n",
       " 'C:\\\\Windows\\\\System32\\\\WindowsPowerShell\\\\v1.0\\\\',\n",
       " 'C:\\\\Windows\\\\System32\\\\OpenSSH\\\\',\n",
       " 'C:\\\\Program Files\\\\dotnet\\\\',\n",
       " 'C:\\\\Program Files\\\\Git\\\\cmd',\n",
       " 'C:\\\\Program Files\\\\nodejs\\\\',\n",
       " 'C:\\\\Users\\\\Chandan\\\\AppData\\\\Local\\\\Programs\\\\Python\\\\Python312\\\\Scripts\\\\',\n",
       " 'C:\\\\Users\\\\Chandan\\\\AppData\\\\Local\\\\Programs\\\\Python\\\\Python312\\\\',\n",
       " 'C:\\\\Users\\\\Chandan\\\\AppData\\\\Local\\\\Programs\\\\Python\\\\Launcher\\\\',\n",
       " 'C:\\\\Users\\\\Chandan\\\\AppData\\\\Local\\\\Microsoft\\\\WindowsApps',\n",
       " 'C:\\\\Users\\\\Chandan\\\\AppData\\\\Local\\\\Programs\\\\Microsoft VS Code\\\\bin',\n",
       " 'C:\\\\Users\\\\Chandan\\\\AppData\\\\Roaming\\\\npm']"
      ]
     },
     "execution_count": 28,
     "metadata": {},
     "output_type": "execute_result"
    }
   ],
   "source": [
    "path_variable.split(\";\")"
   ]
  },
  {
   "cell_type": "code",
   "execution_count": 31,
   "id": "3c35d477-bf59-43b6-a033-7a87909ab115",
   "metadata": {},
   "outputs": [
    {
     "data": {
      "text/plain": [
       "0"
      ]
     },
     "execution_count": 31,
     "metadata": {},
     "output_type": "execute_result"
    }
   ],
   "source": [
    "os.system('echo Hello, World!')"
   ]
  },
  {
   "cell_type": "code",
   "execution_count": null,
   "id": "0b85eeae-31b9-44e2-9463-f85257323f36",
   "metadata": {},
   "outputs": [],
   "source": []
  }
 ],
 "metadata": {
  "kernelspec": {
   "display_name": "Python 3 (ipykernel)",
   "language": "python",
   "name": "python3"
  },
  "language_info": {
   "codemirror_mode": {
    "name": "ipython",
    "version": 3
   },
   "file_extension": ".py",
   "mimetype": "text/x-python",
   "name": "python",
   "nbconvert_exporter": "python",
   "pygments_lexer": "ipython3",
   "version": "3.12.4"
  }
 },
 "nbformat": 4,
 "nbformat_minor": 5
}
