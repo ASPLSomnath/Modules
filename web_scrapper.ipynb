{
 "cells": [
  {
   "cell_type": "code",
   "execution_count": 1,
   "id": "f4a7ffe7-d7f4-46a0-90f0-bb7f091d15b9",
   "metadata": {},
   "outputs": [],
   "source": [
    "import requests\n",
    "from bs4 import BeautifulSoup"
   ]
  },
  {
   "cell_type": "code",
   "execution_count": 2,
   "id": "50c9bf5a-f855-4eea-8fbd-05131e2f4593",
   "metadata": {},
   "outputs": [],
   "source": [
    "r = requests.get('https://www.geeksforgeeks.org/python-programming-language/')"
   ]
  },
  {
   "cell_type": "code",
   "execution_count": 3,
   "id": "83e2f9c4-9e3f-44a2-8965-eee150165881",
   "metadata": {},
   "outputs": [],
   "source": [
    "sope = BeautifulSoup(r.content,'html.parser' )"
   ]
  },
  {
   "cell_type": "code",
   "execution_count": 12,
   "id": "5c415b5f-0b86-44e6-92c1-f0b38f101c96",
   "metadata": {},
   "outputs": [
    {
     "data": {
      "text/plain": [
       "<div class=\"_logo\">\n",
       "<!-- Original Logo -->\n",
       "<img alt=\"geeksforgeeks\" class=\"gfg_logo_img\" src=\"https://media.geeksforgeeks.org/gfg-gg-logo.svg\" style=\"height: 30px; width: 80px; max-width: fit-content;\"/>\n",
       "</div>"
      ]
     },
     "execution_count": 12,
     "metadata": {},
     "output_type": "execute_result"
    }
   ],
   "source": [
    "sope.find('div',  class_ = '_logo')"
   ]
  },
  {
   "cell_type": "code",
   "execution_count": null,
   "id": "4bdac086-98f3-4231-8eca-d8a47a571589",
   "metadata": {},
   "outputs": [],
   "source": []
  },
  {
   "cell_type": "code",
   "execution_count": 16,
   "id": "58d2eea2-5836-4041-8614-b47ab810dc65",
   "metadata": {
    "scrolled": true
   },
   "outputs": [],
   "source": [
    "from selenium import webdriver"
   ]
  },
  {
   "cell_type": "code",
   "execution_count": 17,
   "id": "812dfa5f-1355-4a3d-a9a7-f7406699e3f0",
   "metadata": {},
   "outputs": [],
   "source": [
    "driver = webdriver.Firefox() "
   ]
  },
  {
   "cell_type": "code",
   "execution_count": null,
   "id": "69cafd2d-66cd-46e0-9887-4fd84359d8fd",
   "metadata": {},
   "outputs": [],
   "source": [
    "dri"
   ]
  }
 ],
 "metadata": {
  "kernelspec": {
   "display_name": "Python 3 (ipykernel)",
   "language": "python",
   "name": "python3"
  },
  "language_info": {
   "codemirror_mode": {
    "name": "ipython",
    "version": 3
   },
   "file_extension": ".py",
   "mimetype": "text/x-python",
   "name": "python",
   "nbconvert_exporter": "python",
   "pygments_lexer": "ipython3",
   "version": "3.12.4"
  }
 },
 "nbformat": 4,
 "nbformat_minor": 5
}
